{
 "cells": [
  {
   "cell_type": "code",
   "execution_count": 13,
   "metadata": {},
   "outputs": [
    {
     "name": "stdout",
     "output_type": "stream",
     "text": [
      "Requirement already satisfied: pandas in c:\\users\\manuel\\workspace\\inventario_br\\env\\lib\\site-packages (from -r requirements.txt (line 1)) (2.2.2)\n",
      "Requirement already satisfied: openpyxl in c:\\users\\manuel\\workspace\\inventario_br\\env\\lib\\site-packages (from -r requirements.txt (line 2)) (3.1.5)\n",
      "Requirement already satisfied: xlrd in c:\\users\\manuel\\workspace\\inventario_br\\env\\lib\\site-packages (from -r requirements.txt (line 3)) (2.0.1)\n",
      "Requirement already satisfied: numpy>=1.23.2 in c:\\users\\manuel\\workspace\\inventario_br\\env\\lib\\site-packages (from pandas->-r requirements.txt (line 1)) (2.0.1)\n",
      "Requirement already satisfied: python-dateutil>=2.8.2 in c:\\users\\manuel\\workspace\\inventario_br\\env\\lib\\site-packages (from pandas->-r requirements.txt (line 1)) (2.9.0.post0)\n",
      "Requirement already satisfied: pytz>=2020.1 in c:\\users\\manuel\\workspace\\inventario_br\\env\\lib\\site-packages (from pandas->-r requirements.txt (line 1)) (2024.1)\n",
      "Requirement already satisfied: tzdata>=2022.7 in c:\\users\\manuel\\workspace\\inventario_br\\env\\lib\\site-packages (from pandas->-r requirements.txt (line 1)) (2024.1)\n",
      "Requirement already satisfied: et-xmlfile in c:\\users\\manuel\\workspace\\inventario_br\\env\\lib\\site-packages (from openpyxl->-r requirements.txt (line 2)) (1.1.0)\n",
      "Requirement already satisfied: six>=1.5 in c:\\users\\manuel\\workspace\\inventario_br\\env\\lib\\site-packages (from python-dateutil>=2.8.2->pandas->-r requirements.txt (line 1)) (1.16.0)\n"
     ]
    },
    {
     "name": "stderr",
     "output_type": "stream",
     "text": [
      "\n",
      "[notice] A new release of pip is available: 24.1.2 -> 24.2\n",
      "[notice] To update, run: python.exe -m pip install --upgrade pip\n"
     ]
    }
   ],
   "source": [
    "# se instalan las dependencias necesarias\n",
    "! pip install -r requirements.txt"
   ]
  },
  {
   "cell_type": "code",
   "execution_count": 8,
   "metadata": {},
   "outputs": [],
   "source": [
    "#Se importan las librerias necesarias \n",
    "import pandas as pd"
   ]
  },
  {
   "cell_type": "code",
   "execution_count": 9,
   "metadata": {},
   "outputs": [
    {
     "name": "stdout",
     "output_type": "stream",
     "text": [
      "            code                              product qty     cost    price\n",
      "0      175002710  Pisco Mistral Nobel Barrica Tostada   7   $9.622  $13.000\n",
      "1        1801828                           Budwuaisen  17     $890   $1.000\n",
      "2     2490238841                       Red Bull 473ml   9   $1.650   $2.200\n",
      "3       30052765                    Ocb 1 1/4 Premium  21     $439   $1.000\n",
      "4       30068926                            Ocb Xpert  14     $412   $1.000\n",
      "..           ...                                  ...  ..      ...      ...\n",
      "890     90446849          >Red Bull Red Edition 250ml   3   $1.240   $1.800\n",
      "891     90453823            Red Bull Sugar Free 473ml  10   $1.997   $2.600\n",
      "892     90454707             Redbull Sabor Fruta250ml  20   $1.126   $1.800\n",
      "893     90456695                Red Bull Winter 250ml  24   $1.240   $1.800\n",
      "894  96749021345                Whiskey Evan Williams   3  $13.000  $18.000\n",
      "\n",
      "[895 rows x 5 columns]\n"
     ]
    }
   ],
   "source": [
    "# Se importa archivo con el estock actual del negocio\n",
    "\n",
    "file_stockActual = '08_11/Inventario_0811.xlsx'\n",
    "inventario_actual = pd.read_excel(file_stockActual)\n",
    "#Se establecen columas a utilizar\n",
    "inventario_actual = inventario_actual[['Código', 'Producto', 'Existencia', 'P. Costo', 'P. Venta']]\n",
    "\n",
    "#Se renombran las columnas para facilitar el manejo\n",
    "inventario_actual.columns = ['code', 'product', 'qty', 'cost', 'price']\n",
    "\n",
    "print(inventario_actual)\n"
   ]
  },
  {
   "cell_type": "code",
   "execution_count": 3,
   "metadata": {},
   "outputs": [
    {
     "name": "stdout",
     "output_type": "stream",
     "text": [
      "              code                         product  qty\n",
      "0    7501233712713  Tequila blanco el merendero 1L    2\n",
      "1    5000289020701             Gordons dry gin 750    2\n",
      "2    5000291026548           Tanque Ray dark berry    1\n",
      "3    5000281015248                Tanqueray london    3\n",
      "4    7640175740047                 Bomba vapor gin    2\n",
      "..             ...                             ...  ...\n",
      "180  7801620006631          cachantun más granada     4\n",
      "181  7804646000256                   mister Big 2L    1\n",
      "182  7804603921082                    Sandy Mac 1L    2\n",
      "183  5010408252074                   Sandy Mac 750    2\n",
      "184  6932757154818      pañuelo desechable care up   40\n",
      "\n",
      "[572 rows x 3 columns]\n"
     ]
    }
   ],
   "source": [
    "#Archivos de inventario Capturados con el lector de codigos de barras android\n",
    "\n",
    "file1 = '08_11/Manuel_01.xls'\n",
    "file2 = '08_11/Manuel_02.xls'\n",
    "file3 = '08_11/Roberto.xls'\n",
    "file4 = '08_11/Elena.xls'\n",
    "\n",
    "#Se leen los archivos de inventario \n",
    "inventario1 = pd.read_excel(file1)\n",
    "inventario2 = pd.read_excel(file2)\n",
    "inventario3 = pd.read_excel(file3)\n",
    "inventario4 = pd.read_excel(file4)\n",
    "\n",
    "#Se concatenan los archivos de inventario en uno solo\n",
    "TotalInventario = pd.concat([inventario1, inventario2, inventario3, inventario4])\n",
    "\n",
    "#Se establecen las columnas a utilizar\n",
    "TotalInventario = TotalInventario[['Código de Barras:', 'Artículo:', 'Unidades:']]\n",
    "\n",
    "#se cambian los nombres de las columnas para facilitar el manejo de los datos\n",
    "TotalInventario.columns = ['code', 'product', 'qty']\n",
    "\n",
    "#se convirtene los datos de la columna 'code' a string y 'qty' a enteros\n",
    "TotalInventario['code'] = TotalInventario['code'].astype(str)\n",
    "TotalInventario['qty'] = pd.to_numeric(TotalInventario['qty'], errors='coerce', downcast='integer')\n",
    "\n",
    "print(TotalInventario)\n"
   ]
  },
  {
   "cell_type": "code",
   "execution_count": 4,
   "metadata": {},
   "outputs": [
    {
     "name": "stdout",
     "output_type": "stream",
     "text": [
      "0\n",
      "[]\n"
     ]
    }
   ],
   "source": [
    "# se comprueba si los codigos de totalinventario estan en inventario_actual y se almacenan los codigos faltantes en una lista\n",
    "Faltantes = []\n",
    "exclude = ['8501110080255','8804374087016','7804300155889', '4841676004925', '11624822', '9807181688642', '3827372569853', '5571147', '2722764', '7707111', '2228620006600', ]\n",
    "\n",
    "for i in TotalInventario['code']:\n",
    "     if i not in exclude:\n",
    "          if i not in inventario_actual['code'].values:\n",
    "               Faltantes.append(i)\n",
    "\n",
    "#se agrupan los codigos unicos de totalinventario y se suman los 'qty' de cada uno de ellos para obtener el total de cada producto en el inventario\n",
    "TotalInventario = TotalInventario.groupby('code').sum().reset_index()\n",
    "\n",
    "#se exporta totalinventario a un archivo excel\n",
    "TotalInventario.to_excel('total_inventario.xlsx', index=False, engine='openpyxl') \n"
   ]
  },
  {
   "cell_type": "code",
   "execution_count": 5,
   "metadata": {},
   "outputs": [],
   "source": [
    "#se abre el archivo original de inventario para usarlo como plantilla\n",
    "form_file = pd.read_excel(file_stockActual)\n",
    "\n",
    "#se establece la columna 'existencia' a 0 para todos los codigos\n",
    "form_file['Existencia'] = 0\n",
    "\n",
    "# se remplaza la columna 'existencia' con los valores de 'qty' de totalinventario (realizado en el paso anterior)\n",
    "for i in range(len(TotalInventario)):\n",
    "     form_file.loc[form_file['Código'] == TotalInventario['code'][i], 'Existencia'] = TotalInventario['qty'][i]\n",
    "\n",
    "\n",
    "#se eliminan \"$\" y \".\" de la columna 'P. Costo' y 'P. Venta' y P.Mayoreo y se convierten a numericos\n",
    "form_file['P. Costo'] = form_file['P. Costo'].str.replace('$', '').str.replace('.', '').astype(int)\n",
    "form_file['P. Venta'] = form_file['P. Venta'].str.replace('$', '').str.replace('.', '').astype(int)\n",
    "form_file['P. Mayoreo'] = form_file['P. Mayoreo'].str.replace('$', '').str.replace('.', '').astype(int)\n",
    "\n",
    "# se establece a numerico la columna Inv. Mínimo y Inv. Máximo\n",
    "form_file['Inv. Mínimo'] = pd.to_numeric(form_file['Inv. Mínimo'], errors='coerce', downcast='integer')\n",
    "form_file['Inv. Máximo'] = pd.to_numeric(form_file['Inv. Máximo'], errors='coerce', downcast='integer')\n",
    "\n",
    "#se exporta el archivo con el inventario actualizado listo para ser cargado a la base de datos\n",
    "form_file.to_excel('Inventario_0811_actualizado.xlsx', index=False, engine='openpyxl')"
   ]
  }
 ],
 "metadata": {
  "kernelspec": {
   "display_name": "env",
   "language": "python",
   "name": "python3"
  },
  "language_info": {
   "codemirror_mode": {
    "name": "ipython",
    "version": 3
   },
   "file_extension": ".py",
   "mimetype": "text/x-python",
   "name": "python",
   "nbconvert_exporter": "python",
   "pygments_lexer": "ipython3",
   "version": "3.11.9"
  }
 },
 "nbformat": 4,
 "nbformat_minor": 2
}
